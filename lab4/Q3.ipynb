{
 "cells": [
  {
   "cell_type": "code",
   "execution_count": 1,
   "metadata": {},
   "outputs": [],
   "source": [
    "import numpy as np\n",
    "import matplotlib.pyplot as plt"
   ]
  },
  {
   "cell_type": "code",
   "execution_count": 24,
   "metadata": {},
   "outputs": [
    {
     "name": "stdout",
     "output_type": "stream",
     "text": [
      "[0.5]\n"
     ]
    }
   ],
   "source": [
    "a = 0.5\n",
    "dx = 1\n",
    "threshold = 1e-6\n",
    "\n",
    "def f(x,c):\n",
    "    return 1-np.e**(-c*x)\n",
    "\n",
    "a_list = [a]\n",
    "print(a_list)\n",
    "while dx > threshold:\n",
    "    a_list.append(f(a_list[-1],2))\n",
    "    dx = np.abs(a_list[-1]-a_list[-2])\n"
   ]
  },
  {
   "cell_type": "code",
   "execution_count": 25,
   "metadata": {},
   "outputs": [
    {
     "data": {
      "image/png": "[encoded data removed]",
      "text/plain": [
       "<Figure size 432x288 with 1 Axes>"
      ]
     },
     "metadata": {
      "needs_background": "light"
     },
     "output_type": "display_data"
    }
   ],
   "source": [
    "plt.plot(a_list)\n",
    "plt.title(r\"Finding non-trivial root of $x=1-e^{-2x}$ with Relaxation\")\n",
    "plt.xlabel(\"Iteration\")\n",
    "plt.ylabel(\"Root Value\")\n",
    "plt.savefig(\"Q3_610a.pdf\")"
   ]
  },
  {
   "cell_type": "code",
   "execution_count": 20,
   "metadata": {},
   "outputs": [],
   "source": [
    "c_list = np.arange(0,3,0.01)\n",
    "r_list = []\n",
    "\n",
    "for c in c_list:\n",
    "    a_list = [a]\n",
    "    dx = 1\n",
    "    while dx > threshold:\n",
    "        a_list.append(f(a_list[-1],c))\n",
    "        dx = np.abs(a_list[-1]-a_list[-2])\n",
    "    r_list.append(a_list[-1])"
   ]
  },
  {
   "cell_type": "code",
   "execution_count": 33,
   "metadata": {},
   "outputs": [
    {
     "data": {
      "image/png": "[encoded data removed]",
      "text/plain": [
       "<Figure size 432x288 with 1 Axes>"
      ]
     },
     "metadata": {
      "needs_background": "light"
     },
     "output_type": "display_data"
    }
   ],
   "source": [
    "plt.plot(c_list, r_list)\n",
    "plt.plot(1,0,\"o\",color=\"red\",label=\"Phase Transition\")\n",
    "plt.title(r\"Non-trivial root of $x=1-e^{-cx}$ vs. c\")\n",
    "plt.xlabel(\"C\")\n",
    "plt.ylabel(\"Root Value\")\n",
    "plt.legend()\n",
    "plt.savefig(\"Q3_610b.pdf\")"
   ]
  },
  {
   "cell_type": "markdown",
   "metadata": {},
   "source": [
    "# 6.11 b,c,d"
   ]
  },
  {
   "cell_type": "code",
   "execution_count": 110,
   "metadata": {},
   "outputs": [
    {
     "name": "stdout",
     "output_type": "stream",
     "text": [
      "16\n"
     ]
    }
   ],
   "source": [
    "#b\n",
    "a = 0.5\n",
    "dx = 1\n",
    "threshold = 1e-6\n",
    "\n",
    "def f(x,c):\n",
    "    return 1-np.e**(-c*x)\n",
    "\n",
    "a_list = [a]\n",
    "\n",
    "while dx > threshold:\n",
    "    a_list.append(f(a_list[-1],2))\n",
    "    dx = np.abs(a_list[-1]-a_list[-2])\n",
    "print(len(a_list)-1) #16 iterations, with starting value a=0.5"
   ]
  },
  {
   "cell_type": "code",
   "execution_count": 113,
   "metadata": {},
   "outputs": [
    {
     "name": "stdout",
     "output_type": "stream",
     "text": [
      "8 iterations were required for the overelaxation parameter 0.5 to achieve an accuracy of 10^-6 for the nontrivial root\n",
      "7 iterations were required for the overelaxation parameter 0.55 to achieve an accuracy of 10^-6 for the nontrivial root\n",
      "7 iterations were required for the overelaxation parameter 0.6000000000000001 to achieve an accuracy of 10^-6 for the nontrivial root\n",
      "6 iterations were required for the overelaxation parameter 0.6500000000000001 to achieve an accuracy of 10^-6 for the nontrivial root\n",
      "5 iterations were required for the overelaxation parameter 0.7000000000000002 to achieve an accuracy of 10^-6 for the nontrivial root\n",
      "6 iterations were required for the overelaxation parameter 0.7500000000000002 to achieve an accuracy of 10^-6 for the nontrivial root\n",
      "6 iterations were required for the overelaxation parameter 0.8000000000000003 to achieve an accuracy of 10^-6 for the nontrivial root\n",
      "7 iterations were required for the overelaxation parameter 0.8500000000000003 to achieve an accuracy of 10^-6 for the nontrivial root\n",
      "8 iterations were required for the overelaxation parameter 0.9000000000000004 to achieve an accuracy of 10^-6 for the nontrivial root\n",
      "8 iterations were required for the overelaxation parameter 0.9500000000000004 to achieve an accuracy of 10^-6 for the nontrivial root\n"
     ]
    }
   ],
   "source": [
    "#c\n",
    "\n",
    "#Description: This code analyzes the number of iterations required to get the nontrivial root of \n",
    "#x=1-e^(-2x) using over-relaxation. It outputs a plot showing a \n",
    "#using code from part (b) (which is originally from the lab notes)\n",
    "\n",
    "threshold = 1e-6\n",
    "w_list=np.arange(0.5,1,0.05) #testing with a range of w\n",
    "i_list = [] #number of iterations list\n",
    "\n",
    "#defining the function on the RHS\n",
    "def f(x,c):\n",
    "    return 1-np.e**(-c*x)\n",
    "\n",
    "#running a for loop for each w-value, and storing the resulting number of iteration in i_list\n",
    "for w in w_list:\n",
    "    a = 0.5\n",
    "    dx = 1\n",
    "    a_list = [a]\n",
    "    while dx > threshold: #run until desired accuracy is achieved\n",
    "        a_list.append((1+w)*f(a_list[-1],2)-w*a_list[-1]) #overelaxation formula\n",
    "        dx = np.abs(a_list[-1]-a_list[-2]) \n",
    "    i_list.append(len(a_list)-1) #subtract 1 since before any iterations, len(a_list) = len([a]) = 1\n",
    "\n",
    "#Printing the number of iterations required for each w value in w_list:\n",
    "for i in range(len(w_list)):\n",
    "    print(\"{0} iterations were required for the overelaxation parameter {1} to \\\n",
    "achieve an accuracy of 10^-6 for the nontrivial root\".format(i_list[i],w_list[i]))"
   ]
  },
  {
   "cell_type": "markdown",
   "metadata": {},
   "source": [
    "# (d)\n",
    "Yes, having an overrelaxation parameter w<0 is better than w=0 (ordinary relaxation) when the relaxation method is oscillating around the desired value, like in the case of x = (1/4) * e^(1-x^2) with starting value a=0.9 (the intuition for this is equation 6.72 from Newman). Having w>0 allows to for a greater controlled step in x, and w<0 allows for a lower controlled step in x, so it reduces the amount of overshooting across the desired value. This means that when x is oscillating around the final solution, w<0 decreases these oscillations at a faster rate than w=0, allowing one to obtain the final solution with a certain accuracy with a lower number of iterations."
   ]
  },
  {
   "cell_type": "code",
   "execution_count": 87,
   "metadata": {},
   "outputs": [
    {
     "name": "stdout",
     "output_type": "stream",
     "text": [
      "[0.9, 0.6011561997071564, 0.5373092147728075, 0.5232339497002512, 0.5200250368685313, 0.5192871097799521, 0.5191170696767977, 0.5190778690005784, 0.5190688307806317, 0.5190667468506351, 0.5190662663589756]\n"
     ]
    }
   ],
   "source": [
    "a = 0.9\n",
    "dx = 1\n",
    "a_list = [a]\n",
    "threshold = 1e-6\n",
    "w = -0.5\n",
    "\n",
    "#defining the function on the RHS\n",
    "def f(x):\n",
    "    return (1/4)*np.e**(1-x**2)\n",
    "\n",
    "\n",
    "\n",
    "while dx > threshold and len(a_list)<50:\n",
    "    a_list.append((1+w)*f(a_list[-1])-w*a_list[-1]) #overelaxation formula\n",
    "    dx = np.abs(a_list[-1]-a_list[-2]) \n",
    "\n",
    "print(a_list)"
   ]
  },
  {
   "cell_type": "markdown",
   "metadata": {},
   "source": [
    "# 6.11 b,c"
   ]
  },
  {
   "cell_type": "code",
   "execution_count": 88,
   "metadata": {},
   "outputs": [],
   "source": [
    "#b\n",
    "\n",
    "#Using binary search:"
   ]
  },
  {
   "cell_type": "code",
   "execution_count": 128,
   "metadata": {},
   "outputs": [
    {
     "name": "stdout",
     "output_type": "stream",
     "text": [
      "Achieving an accuracy of 10^-6 with binary search required 25 iterations, and the endpoints are: (4.965114146471024,4.965114414691925).\n"
     ]
    }
   ],
   "source": [
    "#BINARY SEARCH\n",
    "#define function to be used in binary search\n",
    "def f(x):\n",
    "    return 5*np.e**(-x) + x - 5\n",
    "\n",
    "#initial end points\n",
    "a = 1 #here, f(a) < 0\n",
    "b = 10 #here, f(b) > 0\n",
    "\n",
    "dist = b-c #distance between endpoints\n",
    "\n",
    "x1_list = [a] #list of left sided endpoints\n",
    "x2_list = [b] #list of right sided endpoints\n",
    "\n",
    "threshold = 1e-6 #want to have accuracy of at least 10^-6\n",
    "\n",
    "iterations = 0\n",
    "\n",
    "while dist>threshold:#run until desired accuracy is achieved\n",
    "    iterations += 1\n",
    "    dist = x2_list[-1] - x1_list[-1] #distance between current endpoints\n",
    "    midpoint = (x1_list[-1] + x2_list[-1])/2 #get midpoint at current endpoints\n",
    "    mid_value = f(midpoint)\n",
    "    if(mid_value < 0): #append to left sided endpoint list if f(midpoint) <0\n",
    "        x1_list.append(midpoint) \n",
    "    else: #append to right sided endpoint list if f(midpoint) > 0\n",
    "        x2_list.append(midpoint) \n",
    "print(\"Achieving an accuracy of 10^-6 with binary search required {0} iterations, and the \\\n",
    "endpoints are: ({1},{2}).\".format(iterations, x1_list[-1], x2_list[-1]))"
   ]
  },
  {
   "cell_type": "code",
   "execution_count": 129,
   "metadata": {},
   "outputs": [
    {
     "name": "stdout",
     "output_type": "stream",
     "text": [
      "Achieving an accuracy of 10^-6 with Newton's method required 7 iterations when the starting point was: 1.\n",
      "Achieving an accuracy of 10^-6 with Newton's method required 4 iterations when the starting point was: 10.\n"
     ]
    }
   ],
   "source": [
    "#NEWTON'S METHOD\n",
    "a = 1\n",
    "dx = 1\n",
    "threshold = 1e-6\n",
    "\n",
    "#define function to be used in Newton's method\n",
    "def f(x):\n",
    "    return 5*np.e**(-x) + x - 5\n",
    "\n",
    "def d_f(x): #define the derivative of f(x) \n",
    "    return -5 * np.e**(-x) + 1\n",
    "    \n",
    "a_list = [a]\n",
    "while dx > threshold:#run until desired accuracy is achieved\n",
    "    x_new = a_list[-1] - f(a_list[-1])/d_f(a_list[-1]) #newton method equation to get next x\n",
    "    a_list.append(x_new)\n",
    "    dx = np.abs(a_list[-1]-a_list[-2])\n",
    "    \n",
    "print(\"Achieving an accuracy of 10^-6 with Newton's method required {0} iterations when the \\\n",
    "starting point was: {1}.\".format(len(a_list)-1, a))\n",
    "\n",
    "#try it for starting point a=10 as well:\n",
    "a = 10\n",
    "dx = 1\n",
    "threshold = 1e-6\n",
    "\n",
    "def d_f(x): #define the derivative of f(x) \n",
    "    return -5 * np.e**(-x) + 1\n",
    "    \n",
    "a_list = [a]\n",
    "while dx > threshold:#run until desired accuracy is achieved\n",
    "    x_new = a_list[-1] - f(a_list[-1])/d_f(a_list[-1]) #newton method equation to get next x\n",
    "    a_list.append(x_new)\n",
    "    dx = np.abs(a_list[-1]-a_list[-2])\n",
    "    \n",
    "print(\"Achieving an accuracy of 10^-6 with Newton's method required {0} iterations when the \\\n",
    "starting point was: {1}.\".format(len(a_list)-1, a))\n"
   ]
  },
  {
   "cell_type": "code",
   "execution_count": 126,
   "metadata": {},
   "outputs": [
    {
     "name": "stdout",
     "output_type": "stream",
     "text": [
      "Achieving an accuracy of 10^-6 with relaxation required 7 iterations when the starting point was: 1.\n",
      "Achieving an accuracy of 10^-6 with relaxation required 6 iterations when the starting point was: 10.\n"
     ]
    }
   ],
   "source": [
    "a = 1\n",
    "dx = 1\n",
    "threshold = 1e-6\n",
    "\n",
    "#define function for relaxation, has to be different from the functions above since now we\n",
    "#solve x = f(x) instead of f(x) = 0\n",
    "def f(x):\n",
    "    return - 5*np.e**(-x) + 5\n",
    "\n",
    "a_list = [a]\n",
    "while dx > threshold:#run until desired accuracy is achieved\n",
    "    a_list.append(f(a_list[-1]))\n",
    "    dx = np.abs(a_list[-1]-a_list[-2])\n",
    "    \n",
    "print(\"Achieving an accuracy of 10^-6 with relaxation required {0} iterations when the \\\n",
    "starting point was: {1}.\".format(len(a_list)-1, a))\n",
    "\n",
    "#try it for starting point a=10 as well:\n",
    "a = 10\n",
    "dx = 1\n",
    "threshold = 1e-6\n",
    "\n",
    "#define function for relaxation, has to be different from the function for binary search since now we \n",
    "#solve x = f(x) instead of f(x) = 0\n",
    "\n",
    "a_list = [a]\n",
    "while dx > threshold:#run until desired accuracy is achieved\n",
    "    a_list.append(f(a_list[-1]))\n",
    "    dx = np.abs(a_list[-1]-a_list[-2])\n",
    "    \n",
    "print(\"Achieving an accuracy of 10^-6 with relaxation required {0} iterations when the \\\n",
    "starting point was: {1}.\".format(len(a_list)-1, a))"
   ]
  },
  {
   "cell_type": "code",
   "execution_count": 132,
   "metadata": {},
   "outputs": [
    {
     "name": "stdout",
     "output_type": "stream",
     "text": [
      "The temperature at the surface of the Sun is approximately 5782.594546990246 K\n"
     ]
    }
   ],
   "source": [
    "#c\n",
    "\n",
    "h = 6.63 * 10**(-34) #Plank constant, units of J*s\n",
    "c = 3*10**8 #speed of light, units of m/s\n",
    "k_b = 1.38*10**(-23) #Boltzmann constant, units of J/K\n",
    "lmbda = 502*10**(-9) #wavelength of Sun's emitted radiation, units of m\n",
    "x = x1_list[-1] #final left endpoint from binary search method, dimensionless\n",
    "\n",
    "T = h*c/(lmbda*k_b*x)\n",
    "print(\"The temperature at the surface of the Sun is approximately {0} K\".format(T))"
   ]
  },
  {
   "cell_type": "code",
   "execution_count": null,
   "metadata": {},
   "outputs": [],
   "source": []
  }
 ],
 "metadata": {
  "kernelspec": {
   "display_name": "Python 3",
   "language": "python",
   "name": "python3"
  },
  "language_info": {
   "codemirror_mode": {
    "name": "ipython",
    "version": 3
   },
   "file_extension": ".py",
   "mimetype": "text/x-python",
   "name": "python",
   "nbconvert_exporter": "python",
   "pygments_lexer": "ipython3",
   "version": "3.7.4"
  }
 },
 "nbformat": 4,
 "nbformat_minor": 2
}
