{
 "cells": [
  {
   "cell_type": "code",
   "execution_count": 2,
   "metadata": {},
   "outputs": [
    {
     "data": {
      "image/png": "[encoded data removed]",
      "text/plain": [
       "<Figure size 432x288 with 1 Axes>"
      ]
     },
     "metadata": {
      "needs_background": "light"
     },
     "output_type": "display_data"
    }
   ],
   "source": [
    "from numpy import empty,zeros,max\n",
    "from pylab import imshow,gray,show\n",
    "\n",
    "# Constants\n",
    "M = 100         # Grid squares on a side\n",
    "V = 1.0         # Voltage at top wall\n",
    "target = 1e-6   # Target accuracy\n",
    "\n",
    "# Create arrays to hold potential values\n",
    "phi = zeros([M+1,M+1],float)\n",
    "phi[0,:] = V\n",
    "phiprime = empty([M+1,M+1],float)\n",
    "\n",
    "# Main loop\n",
    "delta = 1.0\n",
    "while delta>target:\n",
    "\n",
    "    # Calculate new values of the potential\n",
    "    for i in range(M+1):\n",
    "        for j in range(M+1):\n",
    "            if i==0 or i==M or j==0 or j==M:\n",
    "                phiprime[i,j] = phi[i,j]\n",
    "            else:\n",
    "                phiprime[i,j] = (phi[i+1,j] + phi[i-1,j] \\\n",
    "                                 + phi[i,j+1] + phi[i,j-1])/4\n",
    "\n",
    "    # Calculate maximum difference from old values\n",
    "    delta = max(abs(phi-phiprime))\n",
    "\n",
    "    # Swap the two arrays around\n",
    "    phi,phiprime = phiprime,phi\n",
    "\n",
    "# Make a plot\n",
    "imshow(phi)\n",
    "gray()\n",
    "show()"
   ]
  },
  {
   "cell_type": "code",
   "execution_count": 5,
   "metadata": {},
   "outputs": [
    {
     "data": {
      "text/plain": [
       "array([1., 1., 1., 1., 1., 1., 1., 1., 1., 1., 1., 1., 1., 1., 1., 1., 1.,\n",
       "       1., 1., 1., 1., 1., 1., 1., 1., 1., 1., 1., 1., 1., 1., 1., 1., 1.,\n",
       "       1., 1., 1., 1., 1., 1., 1., 1., 1., 1., 1., 1., 1., 1., 1., 1., 1.,\n",
       "       1., 1., 1., 1., 1., 1., 1., 1., 1., 1., 1., 1., 1., 1., 1., 1., 1.,\n",
       "       1., 1., 1., 1., 1., 1., 1., 1., 1., 1., 1., 1., 1., 1., 1., 1., 1.,\n",
       "       1., 1., 1., 1., 1., 1., 1., 1., 1., 1., 1., 1., 1., 1., 1., 1.])"
      ]
     },
     "execution_count": 5,
     "metadata": {},
     "output_type": "execute_result"
    }
   ],
   "source": [
    "phi[0,:]"
   ]
  },
  {
   "cell_type": "code",
   "execution_count": 7,
   "metadata": {},
   "outputs": [
    {
     "data": {
      "text/plain": [
       "array([0., 0., 0., 0., 0., 0., 0., 0., 0., 0., 0., 0., 0., 0., 0., 0., 0.,\n",
       "       0., 0., 0., 0., 0., 0., 0., 0., 0., 0., 0., 0., 0., 0., 0., 0., 0.,\n",
       "       0., 0., 0., 0., 0., 0., 0., 0., 0., 0., 0., 0., 0., 0., 0., 0., 0.,\n",
       "       0., 0., 0., 0., 0., 0., 0., 0., 0., 0., 0., 0., 0., 0., 0., 0., 0.,\n",
       "       0., 0., 0., 0., 0., 0., 0., 0., 0., 0., 0., 0., 0., 0., 0., 0., 0.,\n",
       "       0., 0., 0., 0., 0., 0., 0., 0., 0., 0., 0., 0., 0., 0., 0., 0.])"
      ]
     },
     "execution_count": 7,
     "metadata": {},
     "output_type": "execute_result"
    }
   ],
   "source": [
    "phi[100,:]"
   ]
  },
  {
   "cell_type": "code",
   "execution_count": 12,
   "metadata": {},
   "outputs": [
    {
     "data": {
      "text/plain": [
       "array([0.53906515, 0.52387879, 0.50900244, 0.49443692, 0.48018242,\n",
       "       0.46623848, 0.45260407, 0.4392776 , 0.42625698, 0.41353965,\n",
       "       0.40112264, 0.38900259, 0.37717576, 0.36563813, 0.35438537,\n",
       "       0.34341293, 0.33271599, 0.32228959, 0.31212858, 0.30222764,\n",
       "       0.29258139, 0.2831843 , 0.27403078, 0.2651152 , 0.25643186,\n",
       "       0.24797504, 0.23973901, 0.23171803, 0.22390637, 0.21629833,\n",
       "       0.20888824, 0.20167044, 0.19463935, 0.1877894 , 0.1811151 ,\n",
       "       0.17461102, 0.16827178, 0.16209208, 0.15606668, 0.1501904 ,\n",
       "       0.14445815, 0.13886491, 0.13340573, 0.12807573, 0.12287012,\n",
       "       0.11778416, 0.1128132 , 0.10795266, 0.10319803, 0.09854487,\n",
       "       0.0939888 , 0.08952551, 0.08515077, 0.0808604 , 0.07665028,\n",
       "       0.07251635, 0.0684546 , 0.06446109, 0.06053192, 0.05666324,\n",
       "       0.05285124, 0.04909218, 0.04538233, 0.04171801, 0.03809558,\n",
       "       0.03451144, 0.030962  , 0.02744372, 0.02395306, 0.02048653,\n",
       "       0.01704065, 0.01361194, 0.01019696, 0.00679227, 0.00339442,\n",
       "       0.        ])"
      ]
     },
     "execution_count": 12,
     "metadata": {},
     "output_type": "execute_result"
    }
   ],
   "source": [
    "phi[25:,50]"
   ]
  },
  {
   "cell_type": "code",
   "execution_count": null,
   "metadata": {},
   "outputs": [],
   "source": []
  }
 ],
 "metadata": {
  "kernelspec": {
   "display_name": "Python 3",
   "language": "python",
   "name": "python3"
  },
  "language_info": {
   "codemirror_mode": {
    "name": "ipython",
    "version": 3
   },
   "file_extension": ".py",
   "mimetype": "text/x-python",
   "name": "python",
   "nbconvert_exporter": "python",
   "pygments_lexer": "ipython3",
   "version": "3.7.4"
  }
 },
 "nbformat": 4,
 "nbformat_minor": 2
}
